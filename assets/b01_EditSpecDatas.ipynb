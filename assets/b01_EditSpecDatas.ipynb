{
 "cells": [
  {
   "cell_type": "code",
   "execution_count": 13,
   "metadata": {},
   "outputs": [],
   "source": [
    "import os\n",
    "\n",
    "def find_datas(source_folder, base_path=''):\n",
    "    datas = []\n",
    "    for root, dirs, files in os.walk(source_folder):\n",
    "        for file in files:\n",
    "            file_path = os.path.join(root, file)\n",
    "            relative_path = os.path.relpath(file_path, base_path)\n",
    "            datas.append((relative_path, os.path.dirname(relative_path)))\n",
    "    return datas\n",
    "\n",
    "def modify_spec_file(spec_file_path, datas):\n",
    "    with open(spec_file_path, 'r') as file:\n",
    "        lines = file.readlines()\n",
    "    \n",
    "    datas_line_index = -1\n",
    "    for i, line in enumerate(lines):\n",
    "        if 'datas=[' in line:\n",
    "            datas_line_index = i\n",
    "            break\n",
    "    \n",
    "    if datas_line_index >= 0:\n",
    "        # Remove the existing 'datas' line\n",
    "        del lines[datas_line_index]\n",
    "        # Insert the new 'datas' content\n",
    "        datas_lines = ['        (' + repr(src) + ', ' + repr(dest) + '),\\n' for src, dest in datas]\n",
    "        lines.insert(datas_line_index, '    datas=[\\n' + ''.join(datas_lines) + '    ],\\n')\n",
    "    \n",
    "    with open(spec_file_path, 'w') as file:\n",
    "        file.writelines(lines)\n",
    "\n",
    "PATH = \"../\"\n",
    "\n",
    "# Path to your 'app_linux.spec' file\n",
    "spec_file_path = PATH + 'app_linux.spec'\n",
    "# Base path to calculate relative paths FROM ..\n",
    "base_path = os.path.abspath(PATH)\n",
    "# Folder containing the resources to include\n",
    "source_folder = os.path.join(base_path, 'Bird Vocalization Samples')\n",
    "\n",
    "datas = find_datas(source_folder, base_path)\n",
    "modify_spec_file(spec_file_path, datas)"
   ]
  }
 ],
 "metadata": {
  "kernelspec": {
   "display_name": "AudioApp",
   "language": "python",
   "name": "python3"
  },
  "language_info": {
   "codemirror_mode": {
    "name": "ipython",
    "version": 3
   },
   "file_extension": ".py",
   "mimetype": "text/x-python",
   "name": "python",
   "nbconvert_exporter": "python",
   "pygments_lexer": "ipython3",
   "version": "3.8.19"
  }
 },
 "nbformat": 4,
 "nbformat_minor": 2
}
